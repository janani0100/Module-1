{
  "nbformat": 4,
  "nbformat_minor": 0,
  "metadata": {
    "colab": {
      "name": "Untitled11.ipynb",
      "provenance": [],
      "authorship_tag": "ABX9TyMFzg+XCVI4zhZFMyFsJRr1",
      "include_colab_link": true
    },
    "kernelspec": {
      "name": "python3",
      "display_name": "Python 3"
    },
    "language_info": {
      "name": "python"
    }
  },
  "cells": [
    {
      "cell_type": "markdown",
      "metadata": {
        "id": "view-in-github",
        "colab_type": "text"
      },
      "source": [
        "<a href=\"https://colab.research.google.com/github/janani0100/Module-1/blob/main/Untitled11.ipynb\" target=\"_parent\"><img src=\"https://colab.research.google.com/assets/colab-badge.svg\" alt=\"Open In Colab\"/></a>"
      ]
    },
    {
      "cell_type": "code",
      "metadata": {
        "id": "txlGcEYvmzCk"
      },
      "source": [
        "import numpy as np\n",
        "import scipy as sp\n",
        "import pandas as pd\n",
        "import matplotlib.pyplot as plt\n",
        "import seaborn as sns\n",
        "%matplotlib inline"
      ],
      "execution_count": 1,
      "outputs": []
    },
    {
      "cell_type": "code",
      "metadata": {
        "colab": {
          "base_uri": "https://localhost:8080/",
          "height": 434
        },
        "id": "fwQq_LL7nAbx",
        "outputId": "55d00cb3-c34d-42b3-a3ba-4a564494fda0"
      },
      "source": [
        "original_data = pd.read_csv('/content/occupancy.csv', na_values=['?']).fillna(np.nan)\n",
        "print(\"SIZE = \", len(original_data))\n",
        "target = 'education'\n",
        "original_data.columns\n",
        "original_data\n",
        "# data.groupby(['education']).size()"
      ],
      "execution_count": 3,
      "outputs": [
        {
          "output_type": "stream",
          "name": "stdout",
          "text": [
            "SIZE =  9752\n"
          ]
        },
        {
          "output_type": "execute_result",
          "data": {
            "text/html": [
              "<div>\n",
              "<style scoped>\n",
              "    .dataframe tbody tr th:only-of-type {\n",
              "        vertical-align: middle;\n",
              "    }\n",
              "\n",
              "    .dataframe tbody tr th {\n",
              "        vertical-align: top;\n",
              "    }\n",
              "\n",
              "    .dataframe thead th {\n",
              "        text-align: right;\n",
              "    }\n",
              "</style>\n",
              "<table border=\"1\" class=\"dataframe\">\n",
              "  <thead>\n",
              "    <tr style=\"text-align: right;\">\n",
              "      <th></th>\n",
              "      <th>Unnamed: 0</th>\n",
              "      <th>Date</th>\n",
              "      <th>Time</th>\n",
              "      <th>temperature</th>\n",
              "      <th>relative humidity</th>\n",
              "      <th>light</th>\n",
              "      <th>Carbon</th>\n",
              "      <th>humidity ratio</th>\n",
              "      <th>occupancy</th>\n",
              "      <th>location</th>\n",
              "    </tr>\n",
              "  </thead>\n",
              "  <tbody>\n",
              "    <tr>\n",
              "      <th>0</th>\n",
              "      <td>1</td>\n",
              "      <td>02-11-2015</td>\n",
              "      <td>14:48:00</td>\n",
              "      <td>21.7600</td>\n",
              "      <td>31.133333</td>\n",
              "      <td>437.333333</td>\n",
              "      <td>1029.666667</td>\n",
              "      <td>0.005021</td>\n",
              "      <td>1</td>\n",
              "      <td>UK</td>\n",
              "    </tr>\n",
              "    <tr>\n",
              "      <th>1</th>\n",
              "      <td>2</td>\n",
              "      <td>02-11-2015</td>\n",
              "      <td>14:49:00</td>\n",
              "      <td>21.7900</td>\n",
              "      <td>31.000000</td>\n",
              "      <td>437.333333</td>\n",
              "      <td>1000.000000</td>\n",
              "      <td>0.005009</td>\n",
              "      <td>1</td>\n",
              "      <td>UK</td>\n",
              "    </tr>\n",
              "    <tr>\n",
              "      <th>2</th>\n",
              "      <td>3</td>\n",
              "      <td>02-11-2015</td>\n",
              "      <td>14:50:00</td>\n",
              "      <td>21.7675</td>\n",
              "      <td>31.122500</td>\n",
              "      <td>434.000000</td>\n",
              "      <td>1003.750000</td>\n",
              "      <td>0.005022</td>\n",
              "      <td>1</td>\n",
              "      <td>UK</td>\n",
              "    </tr>\n",
              "    <tr>\n",
              "      <th>3</th>\n",
              "      <td>4</td>\n",
              "      <td>02-11-2015</td>\n",
              "      <td>14:51:00</td>\n",
              "      <td>21.7675</td>\n",
              "      <td>31.122500</td>\n",
              "      <td>439.000000</td>\n",
              "      <td>1009.500000</td>\n",
              "      <td>0.005022</td>\n",
              "      <td>1</td>\n",
              "      <td>UK</td>\n",
              "    </tr>\n",
              "    <tr>\n",
              "      <th>4</th>\n",
              "      <td>5</td>\n",
              "      <td>02-11-2015</td>\n",
              "      <td>14:51:59</td>\n",
              "      <td>21.7900</td>\n",
              "      <td>31.133333</td>\n",
              "      <td>437.333333</td>\n",
              "      <td>1005.666667</td>\n",
              "      <td>0.005030</td>\n",
              "      <td>1</td>\n",
              "      <td>UK</td>\n",
              "    </tr>\n",
              "    <tr>\n",
              "      <th>...</th>\n",
              "      <td>...</td>\n",
              "      <td>...</td>\n",
              "      <td>...</td>\n",
              "      <td>...</td>\n",
              "      <td>...</td>\n",
              "      <td>...</td>\n",
              "      <td>...</td>\n",
              "      <td>...</td>\n",
              "      <td>...</td>\n",
              "      <td>...</td>\n",
              "    </tr>\n",
              "    <tr>\n",
              "      <th>9747</th>\n",
              "      <td>9748</td>\n",
              "      <td>2/18/2015</td>\n",
              "      <td>09:15:00</td>\n",
              "      <td>20.8150</td>\n",
              "      <td>27.717500</td>\n",
              "      <td>429.750000</td>\n",
              "      <td>1505.250000</td>\n",
              "      <td>0.004213</td>\n",
              "      <td>1</td>\n",
              "      <td>USA</td>\n",
              "    </tr>\n",
              "    <tr>\n",
              "      <th>9748</th>\n",
              "      <td>9749</td>\n",
              "      <td>2/18/2015</td>\n",
              "      <td>09:16:00</td>\n",
              "      <td>20.8650</td>\n",
              "      <td>27.745000</td>\n",
              "      <td>423.500000</td>\n",
              "      <td>1514.500000</td>\n",
              "      <td>0.004230</td>\n",
              "      <td>1</td>\n",
              "      <td>USA</td>\n",
              "    </tr>\n",
              "    <tr>\n",
              "      <th>9749</th>\n",
              "      <td>9750</td>\n",
              "      <td>2/18/2015</td>\n",
              "      <td>09:16:59</td>\n",
              "      <td>20.8900</td>\n",
              "      <td>27.745000</td>\n",
              "      <td>423.500000</td>\n",
              "      <td>1521.500000</td>\n",
              "      <td>0.004237</td>\n",
              "      <td>1</td>\n",
              "      <td>USA</td>\n",
              "    </tr>\n",
              "    <tr>\n",
              "      <th>9750</th>\n",
              "      <td>9751</td>\n",
              "      <td>2/18/2015</td>\n",
              "      <td>09:17:59</td>\n",
              "      <td>20.8900</td>\n",
              "      <td>28.022500</td>\n",
              "      <td>418.750000</td>\n",
              "      <td>1632.000000</td>\n",
              "      <td>0.004279</td>\n",
              "      <td>1</td>\n",
              "      <td>USA</td>\n",
              "    </tr>\n",
              "    <tr>\n",
              "      <th>9751</th>\n",
              "      <td>9752</td>\n",
              "      <td>2/18/2015</td>\n",
              "      <td>09:19:00</td>\n",
              "      <td>21.0000</td>\n",
              "      <td>28.100000</td>\n",
              "      <td>409.000000</td>\n",
              "      <td>1864.000000</td>\n",
              "      <td>0.004321</td>\n",
              "      <td>1</td>\n",
              "      <td>USA</td>\n",
              "    </tr>\n",
              "  </tbody>\n",
              "</table>\n",
              "<p>9752 rows × 10 columns</p>\n",
              "</div>"
            ],
            "text/plain": [
              "      Unnamed: 0        Date      Time  ...  humidity ratio  occupancy  location\n",
              "0              1  02-11-2015  14:48:00  ...        0.005021          1        UK\n",
              "1              2  02-11-2015  14:49:00  ...        0.005009          1        UK\n",
              "2              3  02-11-2015  14:50:00  ...        0.005022          1        UK\n",
              "3              4  02-11-2015  14:51:00  ...        0.005022          1        UK\n",
              "4              5  02-11-2015  14:51:59  ...        0.005030          1        UK\n",
              "...          ...         ...       ...  ...             ...        ...       ...\n",
              "9747        9748   2/18/2015  09:15:00  ...        0.004213          1       USA\n",
              "9748        9749   2/18/2015  09:16:00  ...        0.004230          1       USA\n",
              "9749        9750   2/18/2015  09:16:59  ...        0.004237          1       USA\n",
              "9750        9751   2/18/2015  09:17:59  ...        0.004279          1       USA\n",
              "9751        9752   2/18/2015  09:19:00  ...        0.004321          1       USA\n",
              "\n",
              "[9752 rows x 10 columns]"
            ]
          },
          "metadata": {},
          "execution_count": 3
        }
      ]
    },
    {
      "cell_type": "code",
      "metadata": {
        "id": "pXmQgyKFnUmx"
      },
      "source": [
        "features = ['temperature','relative humidity','light','Carbon','humidity ratio']\n",
        "columns = ['Date','Time','temperature','relative humidity','light','Carbon','humidity ratio','occupancy','location']\n",
        "data = original_data[columns]"
      ],
      "execution_count": 6,
      "outputs": []
    },
    {
      "cell_type": "code",
      "metadata": {
        "colab": {
          "base_uri": "https://localhost:8080/",
          "height": 1110
        },
        "id": "-j8l9pzQpCMN",
        "outputId": "12e7b4b3-dcf1-49dd-da71-67d0915878bd"
      },
      "source": [
        "!pip install pingouin"
      ],
      "execution_count": 7,
      "outputs": [
        {
          "output_type": "stream",
          "name": "stdout",
          "text": [
            "Collecting pingouin\n",
            "  Downloading pingouin-0.4.0.tar.gz (206 kB)\n",
            "\u001b[?25l\r\u001b[K     |█▋                              | 10 kB 23.5 MB/s eta 0:00:01\r\u001b[K     |███▏                            | 20 kB 27.7 MB/s eta 0:00:01\r\u001b[K     |████▊                           | 30 kB 31.0 MB/s eta 0:00:01\r\u001b[K     |██████▍                         | 40 kB 35.3 MB/s eta 0:00:01\r\u001b[K     |████████                        | 51 kB 26.5 MB/s eta 0:00:01\r\u001b[K     |█████████▌                      | 61 kB 28.9 MB/s eta 0:00:01\r\u001b[K     |███████████                     | 71 kB 25.9 MB/s eta 0:00:01\r\u001b[K     |████████████▊                   | 81 kB 27.1 MB/s eta 0:00:01\r\u001b[K     |██████████████▎                 | 92 kB 29.1 MB/s eta 0:00:01\r\u001b[K     |███████████████▉                | 102 kB 29.8 MB/s eta 0:00:01\r\u001b[K     |█████████████████▍              | 112 kB 29.8 MB/s eta 0:00:01\r\u001b[K     |███████████████████             | 122 kB 29.8 MB/s eta 0:00:01\r\u001b[K     |████████████████████▋           | 133 kB 29.8 MB/s eta 0:00:01\r\u001b[K     |██████████████████████▏         | 143 kB 29.8 MB/s eta 0:00:01\r\u001b[K     |███████████████████████▊        | 153 kB 29.8 MB/s eta 0:00:01\r\u001b[K     |█████████████████████████▍      | 163 kB 29.8 MB/s eta 0:00:01\r\u001b[K     |███████████████████████████     | 174 kB 29.8 MB/s eta 0:00:01\r\u001b[K     |████████████████████████████▌   | 184 kB 29.8 MB/s eta 0:00:01\r\u001b[K     |██████████████████████████████  | 194 kB 29.8 MB/s eta 0:00:01\r\u001b[K     |███████████████████████████████▊| 204 kB 29.8 MB/s eta 0:00:01\r\u001b[K     |████████████████████████████████| 206 kB 29.8 MB/s \n",
            "\u001b[?25hRequirement already satisfied: numpy>=1.19 in /usr/local/lib/python3.7/dist-packages (from pingouin) (1.19.5)\n",
            "Collecting scipy>=1.7\n",
            "  Downloading scipy-1.7.1-cp37-cp37m-manylinux_2_5_x86_64.manylinux1_x86_64.whl (28.5 MB)\n",
            "\u001b[K     |████████████████████████████████| 28.5 MB 49 kB/s \n",
            "\u001b[?25hRequirement already satisfied: pandas>=1.0 in /usr/local/lib/python3.7/dist-packages (from pingouin) (1.1.5)\n",
            "Requirement already satisfied: matplotlib>=3.0.2 in /usr/local/lib/python3.7/dist-packages (from pingouin) (3.2.2)\n",
            "Requirement already satisfied: seaborn>=0.9.0 in /usr/local/lib/python3.7/dist-packages (from pingouin) (0.11.2)\n",
            "Collecting statsmodels>=0.12.0\n",
            "  Downloading statsmodels-0.12.2-cp37-cp37m-manylinux1_x86_64.whl (9.5 MB)\n",
            "\u001b[K     |████████████████████████████████| 9.5 MB 46.9 MB/s \n",
            "\u001b[?25hRequirement already satisfied: scikit-learn in /usr/local/lib/python3.7/dist-packages (from pingouin) (0.22.2.post1)\n",
            "Collecting pandas_flavor>=0.2.0\n",
            "  Downloading pandas_flavor-0.2.0-py2.py3-none-any.whl (6.6 kB)\n",
            "Collecting outdated\n",
            "  Downloading outdated-0.2.1-py3-none-any.whl (7.5 kB)\n",
            "Requirement already satisfied: tabulate in /usr/local/lib/python3.7/dist-packages (from pingouin) (0.8.9)\n",
            "Requirement already satisfied: python-dateutil>=2.1 in /usr/local/lib/python3.7/dist-packages (from matplotlib>=3.0.2->pingouin) (2.8.2)\n",
            "Requirement already satisfied: cycler>=0.10 in /usr/local/lib/python3.7/dist-packages (from matplotlib>=3.0.2->pingouin) (0.10.0)\n",
            "Requirement already satisfied: kiwisolver>=1.0.1 in /usr/local/lib/python3.7/dist-packages (from matplotlib>=3.0.2->pingouin) (1.3.2)\n",
            "Requirement already satisfied: pyparsing!=2.0.4,!=2.1.2,!=2.1.6,>=2.0.1 in /usr/local/lib/python3.7/dist-packages (from matplotlib>=3.0.2->pingouin) (2.4.7)\n",
            "Requirement already satisfied: six in /usr/local/lib/python3.7/dist-packages (from cycler>=0.10->matplotlib>=3.0.2->pingouin) (1.15.0)\n",
            "Requirement already satisfied: pytz>=2017.2 in /usr/local/lib/python3.7/dist-packages (from pandas>=1.0->pingouin) (2018.9)\n",
            "Requirement already satisfied: xarray in /usr/local/lib/python3.7/dist-packages (from pandas_flavor>=0.2.0->pingouin) (0.18.2)\n",
            "Requirement already satisfied: patsy>=0.5 in /usr/local/lib/python3.7/dist-packages (from statsmodels>=0.12.0->pingouin) (0.5.1)\n",
            "Requirement already satisfied: requests in /usr/local/lib/python3.7/dist-packages (from outdated->pingouin) (2.23.0)\n",
            "Collecting littleutils\n",
            "  Downloading littleutils-0.2.2.tar.gz (6.6 kB)\n",
            "Requirement already satisfied: chardet<4,>=3.0.2 in /usr/local/lib/python3.7/dist-packages (from requests->outdated->pingouin) (3.0.4)\n",
            "Requirement already satisfied: certifi>=2017.4.17 in /usr/local/lib/python3.7/dist-packages (from requests->outdated->pingouin) (2021.5.30)\n",
            "Requirement already satisfied: idna<3,>=2.5 in /usr/local/lib/python3.7/dist-packages (from requests->outdated->pingouin) (2.10)\n",
            "Requirement already satisfied: urllib3!=1.25.0,!=1.25.1,<1.26,>=1.21.1 in /usr/local/lib/python3.7/dist-packages (from requests->outdated->pingouin) (1.24.3)\n",
            "Requirement already satisfied: joblib>=0.11 in /usr/local/lib/python3.7/dist-packages (from scikit-learn->pingouin) (1.0.1)\n",
            "Requirement already satisfied: setuptools>=40.4 in /usr/local/lib/python3.7/dist-packages (from xarray->pandas_flavor>=0.2.0->pingouin) (57.4.0)\n",
            "Building wheels for collected packages: pingouin, littleutils\n",
            "  Building wheel for pingouin (setup.py) ... \u001b[?25l\u001b[?25hdone\n",
            "  Created wheel for pingouin: filename=pingouin-0.4.0-py3-none-any.whl size=206904 sha256=6375246cc4b2e06149333428523c051450334ed6bffb0091c64a7aee4448c146\n",
            "  Stored in directory: /root/.cache/pip/wheels/8a/9d/c4/11677c2c4d5c0df9d1d4aa61528d868bb96e13b898e3f51c95\n",
            "  Building wheel for littleutils (setup.py) ... \u001b[?25l\u001b[?25hdone\n",
            "  Created wheel for littleutils: filename=littleutils-0.2.2-py3-none-any.whl size=7048 sha256=63f504e3f76f5e0b20ce7c592ec5d99e957be827ed1a6b60ee3674243f68c081\n",
            "  Stored in directory: /root/.cache/pip/wheels/d6/64/cd/32819b511a488e4993f2fab909a95330289c3f4e0f6ef4676d\n",
            "Successfully built pingouin littleutils\n",
            "Installing collected packages: scipy, littleutils, statsmodels, pandas-flavor, outdated, pingouin\n",
            "  Attempting uninstall: scipy\n",
            "    Found existing installation: scipy 1.4.1\n",
            "    Uninstalling scipy-1.4.1:\n",
            "      Successfully uninstalled scipy-1.4.1\n",
            "  Attempting uninstall: statsmodels\n",
            "    Found existing installation: statsmodels 0.10.2\n",
            "    Uninstalling statsmodels-0.10.2:\n",
            "      Successfully uninstalled statsmodels-0.10.2\n",
            "\u001b[31mERROR: pip's dependency resolver does not currently take into account all the packages that are installed. This behaviour is the source of the following dependency conflicts.\n",
            "albumentations 0.1.12 requires imgaug<0.2.7,>=0.2.5, but you have imgaug 0.2.9 which is incompatible.\u001b[0m\n",
            "Successfully installed littleutils-0.2.2 outdated-0.2.1 pandas-flavor-0.2.0 pingouin-0.4.0 scipy-1.7.1 statsmodels-0.12.2\n"
          ]
        },
        {
          "output_type": "display_data",
          "data": {
            "application/vnd.colab-display-data+json": {
              "pip_warning": {
                "packages": [
                  "scipy",
                  "statsmodels"
                ]
              }
            }
          },
          "metadata": {}
        }
      ]
    },
    {
      "cell_type": "code",
      "metadata": {
        "id": "AdWb6HCQpSBi"
      },
      "source": [
        ""
      ],
      "execution_count": null,
      "outputs": []
    },
    {
      "cell_type": "code",
      "metadata": {
        "colab": {
          "base_uri": "https://localhost:8080/",
          "height": 0
        },
        "id": "2u1DGYFLpSE1",
        "outputId": "1bb008dd-4398-4c86-9be7-82a86cb38f8d"
      },
      "source": [
        "data.isna().sum()\n",
        "data.groupby(['occupancy']).size()"
      ],
      "execution_count": 19,
      "outputs": [
        {
          "output_type": "execute_result",
          "data": {
            "text/plain": [
              "occupancy\n",
              "1    1844\n",
              "dtype: int64"
            ]
          },
          "metadata": {},
          "execution_count": 19
        }
      ]
    },
    {
      "cell_type": "code",
      "metadata": {
        "colab": {
          "base_uri": "https://localhost:8080/",
          "height": 0
        },
        "id": "NPuaHmaspp1U",
        "outputId": "0799a2db-6dc5-41ae-a5c7-58b21cb71782"
      },
      "source": [
        "print(len(data))\n",
        "data.duplicated()\n",
        "data = data.drop_duplicates(subset=None, keep='first', inplace=False, ignore_index=False)\n",
        "print(len(data))\n",
        "data = data.dropna()\n",
        "print(len(data))"
      ],
      "execution_count": 20,
      "outputs": [
        {
          "output_type": "stream",
          "name": "stdout",
          "text": [
            "1844\n",
            "1844\n",
            "1844\n"
          ]
        }
      ]
    },
    {
      "cell_type": "code",
      "metadata": {
        "colab": {
          "base_uri": "https://localhost:8080/",
          "height": 0
        },
        "id": "HF6p9xK9qK6V",
        "outputId": "7a3bddc3-f0b6-46fe-8bd1-48cfa81001de"
      },
      "source": [
        "data.dtypes\n",
        "data.groupby(['occupancy']).size()"
      ],
      "execution_count": 21,
      "outputs": [
        {
          "output_type": "execute_result",
          "data": {
            "text/plain": [
              "occupancy\n",
              "1    1844\n",
              "dtype: int64"
            ]
          },
          "metadata": {},
          "execution_count": 21
        }
      ]
    },
    {
      "cell_type": "code",
      "metadata": {
        "id": "poD16Z-Rq4Bp"
      },
      "source": [
        "# apply the z-score method in Pandas using the .mean() and .std() methods\n",
        "def z_score(df):\n",
        "    # copy the dataframe\n",
        "    df_std = df.copy()\n",
        "    # apply the z-score method\n",
        "    for column in df_std.columns:\n",
        "      if column != target:\n",
        "        df_std[column] = (df_std[column] - df_std[column].mean()) / df_std[column].std()        \n",
        "    return df_std"
      ],
      "execution_count": 22,
      "outputs": []
    },
    {
      "cell_type": "code",
      "metadata": {
        "colab": {
          "base_uri": "https://localhost:8080/",
          "height": 203
        },
        "id": "KRbBAJIUq7RP",
        "outputId": "7b4ca020-fba1-4b4a-f56a-c4257bad7b88"
      },
      "source": [
        "from sklearn.preprocessing import MinMaxScaler\n",
        "scaler = MinMaxScaler()\n",
        "data[features] = scaler.fit_transform(data[features])\n",
        "data.head()"
      ],
      "execution_count": 23,
      "outputs": [
        {
          "output_type": "execute_result",
          "data": {
            "text/html": [
              "<div>\n",
              "<style scoped>\n",
              "    .dataframe tbody tr th:only-of-type {\n",
              "        vertical-align: middle;\n",
              "    }\n",
              "\n",
              "    .dataframe tbody tr th {\n",
              "        vertical-align: top;\n",
              "    }\n",
              "\n",
              "    .dataframe thead th {\n",
              "        text-align: right;\n",
              "    }\n",
              "</style>\n",
              "<table border=\"1\" class=\"dataframe\">\n",
              "  <thead>\n",
              "    <tr style=\"text-align: right;\">\n",
              "      <th></th>\n",
              "      <th>Date</th>\n",
              "      <th>Time</th>\n",
              "      <th>temperature</th>\n",
              "      <th>relative humidity</th>\n",
              "      <th>light</th>\n",
              "      <th>Carbon</th>\n",
              "      <th>humidity ratio</th>\n",
              "      <th>occupancy</th>\n",
              "      <th>location</th>\n",
              "    </tr>\n",
              "  </thead>\n",
              "  <tbody>\n",
              "    <tr>\n",
              "      <th>0</th>\n",
              "      <td>02-11-2015</td>\n",
              "      <td>14:48:00</td>\n",
              "      <td>0.341176</td>\n",
              "      <td>0.662826</td>\n",
              "      <td>0.291872</td>\n",
              "      <td>0.423850</td>\n",
              "      <td>0.594916</td>\n",
              "      <td>1</td>\n",
              "      <td>UK</td>\n",
              "    </tr>\n",
              "    <tr>\n",
              "      <th>1</th>\n",
              "      <td>02-11-2015</td>\n",
              "      <td>14:49:00</td>\n",
              "      <td>0.350000</td>\n",
              "      <td>0.650024</td>\n",
              "      <td>0.291872</td>\n",
              "      <td>0.398550</td>\n",
              "      <td>0.588042</td>\n",
              "      <td>1</td>\n",
              "      <td>UK</td>\n",
              "    </tr>\n",
              "    <tr>\n",
              "      <th>2</th>\n",
              "      <td>02-11-2015</td>\n",
              "      <td>14:50:00</td>\n",
              "      <td>0.343382</td>\n",
              "      <td>0.661786</td>\n",
              "      <td>0.285714</td>\n",
              "      <td>0.401748</td>\n",
              "      <td>0.595224</td>\n",
              "      <td>1</td>\n",
              "      <td>UK</td>\n",
              "    </tr>\n",
              "    <tr>\n",
              "      <th>3</th>\n",
              "      <td>02-11-2015</td>\n",
              "      <td>14:51:00</td>\n",
              "      <td>0.343382</td>\n",
              "      <td>0.661786</td>\n",
              "      <td>0.294951</td>\n",
              "      <td>0.406652</td>\n",
              "      <td>0.595224</td>\n",
              "      <td>1</td>\n",
              "      <td>UK</td>\n",
              "    </tr>\n",
              "    <tr>\n",
              "      <th>4</th>\n",
              "      <td>02-11-2015</td>\n",
              "      <td>14:51:59</td>\n",
              "      <td>0.350000</td>\n",
              "      <td>0.662826</td>\n",
              "      <td>0.291872</td>\n",
              "      <td>0.403383</td>\n",
              "      <td>0.600051</td>\n",
              "      <td>1</td>\n",
              "      <td>UK</td>\n",
              "    </tr>\n",
              "  </tbody>\n",
              "</table>\n",
              "</div>"
            ],
            "text/plain": [
              "         Date      Time  temperature  ...  humidity ratio  occupancy  location\n",
              "0  02-11-2015  14:48:00     0.341176  ...        0.594916          1        UK\n",
              "1  02-11-2015  14:49:00     0.350000  ...        0.588042          1        UK\n",
              "2  02-11-2015  14:50:00     0.343382  ...        0.595224          1        UK\n",
              "3  02-11-2015  14:51:00     0.343382  ...        0.595224          1        UK\n",
              "4  02-11-2015  14:51:59     0.350000  ...        0.600051          1        UK\n",
              "\n",
              "[5 rows x 9 columns]"
            ]
          },
          "metadata": {},
          "execution_count": 23
        }
      ]
    },
    {
      "cell_type": "code",
      "metadata": {
        "colab": {
          "base_uri": "https://localhost:8080/",
          "height": 417
        },
        "id": "ENCOFmEyrBhP",
        "outputId": "453b9fd8-aad9-49fb-8932-fab399c768cf"
      },
      "source": [
        "data[features] = z_score(data[features])\n",
        "# data.reset_index(drop=True)\n",
        "data"
      ],
      "execution_count": 24,
      "outputs": [
        {
          "output_type": "execute_result",
          "data": {
            "text/html": [
              "<div>\n",
              "<style scoped>\n",
              "    .dataframe tbody tr th:only-of-type {\n",
              "        vertical-align: middle;\n",
              "    }\n",
              "\n",
              "    .dataframe tbody tr th {\n",
              "        vertical-align: top;\n",
              "    }\n",
              "\n",
              "    .dataframe thead th {\n",
              "        text-align: right;\n",
              "    }\n",
              "</style>\n",
              "<table border=\"1\" class=\"dataframe\">\n",
              "  <thead>\n",
              "    <tr style=\"text-align: right;\">\n",
              "      <th></th>\n",
              "      <th>Date</th>\n",
              "      <th>Time</th>\n",
              "      <th>temperature</th>\n",
              "      <th>relative humidity</th>\n",
              "      <th>light</th>\n",
              "      <th>Carbon</th>\n",
              "      <th>humidity ratio</th>\n",
              "      <th>occupancy</th>\n",
              "      <th>location</th>\n",
              "    </tr>\n",
              "  </thead>\n",
              "  <tbody>\n",
              "    <tr>\n",
              "      <th>0</th>\n",
              "      <td>02-11-2015</td>\n",
              "      <td>14:48:00</td>\n",
              "      <td>-0.340225</td>\n",
              "      <td>0.525147</td>\n",
              "      <td>-0.471300</td>\n",
              "      <td>0.494687</td>\n",
              "      <td>0.417802</td>\n",
              "      <td>1</td>\n",
              "      <td>UK</td>\n",
              "    </tr>\n",
              "    <tr>\n",
              "      <th>1</th>\n",
              "      <td>02-11-2015</td>\n",
              "      <td>14:49:00</td>\n",
              "      <td>-0.298901</td>\n",
              "      <td>0.478284</td>\n",
              "      <td>-0.471300</td>\n",
              "      <td>0.386023</td>\n",
              "      <td>0.388130</td>\n",
              "      <td>1</td>\n",
              "      <td>UK</td>\n",
              "    </tr>\n",
              "    <tr>\n",
              "      <th>2</th>\n",
              "      <td>02-11-2015</td>\n",
              "      <td>14:50:00</td>\n",
              "      <td>-0.329894</td>\n",
              "      <td>0.521339</td>\n",
              "      <td>-0.503180</td>\n",
              "      <td>0.399759</td>\n",
              "      <td>0.419135</td>\n",
              "      <td>1</td>\n",
              "      <td>UK</td>\n",
              "    </tr>\n",
              "    <tr>\n",
              "      <th>3</th>\n",
              "      <td>02-11-2015</td>\n",
              "      <td>14:51:00</td>\n",
              "      <td>-0.329894</td>\n",
              "      <td>0.521339</td>\n",
              "      <td>-0.455360</td>\n",
              "      <td>0.420820</td>\n",
              "      <td>0.419135</td>\n",
              "      <td>1</td>\n",
              "      <td>UK</td>\n",
              "    </tr>\n",
              "    <tr>\n",
              "      <th>4</th>\n",
              "      <td>02-11-2015</td>\n",
              "      <td>14:51:59</td>\n",
              "      <td>-0.298901</td>\n",
              "      <td>0.525147</td>\n",
              "      <td>-0.471300</td>\n",
              "      <td>0.406779</td>\n",
              "      <td>0.439972</td>\n",
              "      <td>1</td>\n",
              "      <td>UK</td>\n",
              "    </tr>\n",
              "    <tr>\n",
              "      <th>...</th>\n",
              "      <td>...</td>\n",
              "      <td>...</td>\n",
              "      <td>...</td>\n",
              "      <td>...</td>\n",
              "      <td>...</td>\n",
              "      <td>...</td>\n",
              "      <td>...</td>\n",
              "      <td>...</td>\n",
              "      <td>...</td>\n",
              "    </tr>\n",
              "    <tr>\n",
              "      <th>8830</th>\n",
              "      <td>2/17/2015</td>\n",
              "      <td>17:57:59</td>\n",
              "      <td>0.265853</td>\n",
              "      <td>1.634628</td>\n",
              "      <td>-0.579691</td>\n",
              "      <td>2.733903</td>\n",
              "      <td>2.006663</td>\n",
              "      <td>1</td>\n",
              "      <td>USA</td>\n",
              "    </tr>\n",
              "    <tr>\n",
              "      <th>8831</th>\n",
              "      <td>2/17/2015</td>\n",
              "      <td>17:58:59</td>\n",
              "      <td>0.265853</td>\n",
              "      <td>1.644294</td>\n",
              "      <td>-0.646638</td>\n",
              "      <td>2.721083</td>\n",
              "      <td>2.017649</td>\n",
              "      <td>1</td>\n",
              "      <td>USA</td>\n",
              "    </tr>\n",
              "    <tr>\n",
              "      <th>8834</th>\n",
              "      <td>2/17/2015</td>\n",
              "      <td>18:02:00</td>\n",
              "      <td>0.265853</td>\n",
              "      <td>1.653959</td>\n",
              "      <td>-0.646638</td>\n",
              "      <td>2.585558</td>\n",
              "      <td>2.028637</td>\n",
              "      <td>1</td>\n",
              "      <td>USA</td>\n",
              "    </tr>\n",
              "    <tr>\n",
              "      <th>8835</th>\n",
              "      <td>2/17/2015</td>\n",
              "      <td>18:03:00</td>\n",
              "      <td>0.265853</td>\n",
              "      <td>1.618812</td>\n",
              "      <td>-0.646638</td>\n",
              "      <td>2.591052</td>\n",
              "      <td>1.988685</td>\n",
              "      <td>1</td>\n",
              "      <td>USA</td>\n",
              "    </tr>\n",
              "    <tr>\n",
              "      <th>8836</th>\n",
              "      <td>2/17/2015</td>\n",
              "      <td>18:04:00</td>\n",
              "      <td>0.265853</td>\n",
              "      <td>1.618812</td>\n",
              "      <td>-0.646638</td>\n",
              "      <td>2.594715</td>\n",
              "      <td>1.988685</td>\n",
              "      <td>1</td>\n",
              "      <td>USA</td>\n",
              "    </tr>\n",
              "  </tbody>\n",
              "</table>\n",
              "<p>1844 rows × 9 columns</p>\n",
              "</div>"
            ],
            "text/plain": [
              "            Date      Time  temperature  ...  humidity ratio  occupancy  location\n",
              "0     02-11-2015  14:48:00    -0.340225  ...        0.417802          1        UK\n",
              "1     02-11-2015  14:49:00    -0.298901  ...        0.388130          1        UK\n",
              "2     02-11-2015  14:50:00    -0.329894  ...        0.419135          1        UK\n",
              "3     02-11-2015  14:51:00    -0.329894  ...        0.419135          1        UK\n",
              "4     02-11-2015  14:51:59    -0.298901  ...        0.439972          1        UK\n",
              "...          ...       ...          ...  ...             ...        ...       ...\n",
              "8830   2/17/2015  17:57:59     0.265853  ...        2.006663          1       USA\n",
              "8831   2/17/2015  17:58:59     0.265853  ...        2.017649          1       USA\n",
              "8834   2/17/2015  18:02:00     0.265853  ...        2.028637          1       USA\n",
              "8835   2/17/2015  18:03:00     0.265853  ...        1.988685          1       USA\n",
              "8836   2/17/2015  18:04:00     0.265853  ...        1.988685          1       USA\n",
              "\n",
              "[1844 rows x 9 columns]"
            ]
          },
          "metadata": {},
          "execution_count": 24
        }
      ]
    },
    {
      "cell_type": "code",
      "metadata": {
        "id": "ivbSLwkBrGB8"
      },
      "source": [
        "def boxplot_data(data,column_array ):\n",
        "  # Normalize the data\n",
        "  \n",
        "  sns.set(rc={'figure.figsize':(16,12)})\n",
        "  sns.boxplot(data=data[column_array])"
      ],
      "execution_count": 25,
      "outputs": []
    },
    {
      "cell_type": "code",
      "metadata": {
        "colab": {
          "base_uri": "https://localhost:8080/",
          "height": 703
        },
        "id": "Egu3e9G9rJl5",
        "outputId": "528901c8-b526-4f37-e1fc-8a1ca013772c"
      },
      "source": [
        "boxplot_data(data, features)"
      ],
      "execution_count": 26,
      "outputs": [
        {
          "output_type": "display_data",
          "data": {
            "image/png": "[encoded data removed]",
            "text/plain": [
              "<Figure size 1152x864 with 1 Axes>"
            ]
          },
          "metadata": {}
        }
      ]
    },
    {
      "cell_type": "code",
      "metadata": {
        "colab": {
          "base_uri": "https://localhost:8080/",
          "height": 0
        },
        "id": "Fex6LBtZrTC_",
        "outputId": "b75b1823-81cc-4c12-9cf4-baacfbc12b6d"
      },
      "source": [
        "from sklearn.ensemble import IsolationForest\n",
        "# identify outliers in the training dataset\n",
        "iso = IsolationForest(contamination=0.1)\n",
        "yhat = iso.fit_predict(data[features])\n",
        "# select all rows that are not outliers\n",
        "mask = yhat != -1\n",
        "# print(mask)\n",
        "data_filtered = data[mask]\n",
        "\n",
        "print(len(data))\n",
        "print(len(data_filtered))\n",
        "print(\"Number of outliers removed: \", len(data) - len(data_filtered))\n",
        "\n",
        "data = data_filtered\n",
        "data.groupby(['occupancy']).size()"
      ],
      "execution_count": 27,
      "outputs": [
        {
          "output_type": "stream",
          "name": "stdout",
          "text": [
            "1844\n",
            "1659\n",
            "Number of outliers removed:  185\n"
          ]
        },
        {
          "output_type": "execute_result",
          "data": {
            "text/plain": [
              "occupancy\n",
              "1    1659\n",
              "dtype: int64"
            ]
          },
          "metadata": {},
          "execution_count": 27
        }
      ]
    },
    {
      "cell_type": "code",
      "metadata": {
        "colab": {
          "base_uri": "https://localhost:8080/",
          "height": 703
        },
        "id": "PyWlevBvrnzB",
        "outputId": "98a240b1-b044-4cba-8472-ac6c4483a56c"
      },
      "source": [
        "boxplot_data(data, features)"
      ],
      "execution_count": 28,
      "outputs": [
        {
          "output_type": "display_data",
          "data": {
            "image/png": "[encoded data removed]",
            "text/plain": [
              "<Figure size 1152x864 with 1 Axes>"
            ]
          },
          "metadata": {}
        }
      ]
    },
    {
      "cell_type": "code",
      "metadata": {
        "colab": {
          "base_uri": "https://localhost:8080/",
          "height": 0
        },
        "id": "ITx92CRWrsOq",
        "outputId": "1d934882-6acc-4d17-e5fb-296e2f3c316f"
      },
      "source": [
        "data.groupby(['occupancy']).size()\n",
        "data['occupancy'] = data['occupancy'].replace(1,1)\n",
        "data['occupancy'] = data['occupancy'].replace(0,0)\n",
        "NUMBER_OF_CLUSTERS = 2\n",
        "data.groupby(['occupancy']).size()"
      ],
      "execution_count": 29,
      "outputs": [
        {
          "output_type": "stream",
          "name": "stderr",
          "text": [
            "/usr/local/lib/python3.7/dist-packages/ipykernel_launcher.py:2: SettingWithCopyWarning: \n",
            "A value is trying to be set on a copy of a slice from a DataFrame.\n",
            "Try using .loc[row_indexer,col_indexer] = value instead\n",
            "\n",
            "See the caveats in the documentation: https://pandas.pydata.org/pandas-docs/stable/user_guide/indexing.html#returning-a-view-versus-a-copy\n",
            "  \n",
            "/usr/local/lib/python3.7/dist-packages/ipykernel_launcher.py:3: SettingWithCopyWarning: \n",
            "A value is trying to be set on a copy of a slice from a DataFrame.\n",
            "Try using .loc[row_indexer,col_indexer] = value instead\n",
            "\n",
            "See the caveats in the documentation: https://pandas.pydata.org/pandas-docs/stable/user_guide/indexing.html#returning-a-view-versus-a-copy\n",
            "  This is separate from the ipykernel package so we can avoid doing imports until\n"
          ]
        },
        {
          "output_type": "execute_result",
          "data": {
            "text/plain": [
              "occupancy\n",
              "1    1659\n",
              "dtype: int64"
            ]
          },
          "metadata": {},
          "execution_count": 29
        }
      ]
    },
    {
      "cell_type": "code",
      "metadata": {
        "colab": {
          "base_uri": "https://localhost:8080/",
          "height": 0
        },
        "id": "wweETTQZsh7V",
        "outputId": "cd319222-c5fb-4632-bfbe-24f536fa9552"
      },
      "source": [
        "from sklearn.cluster import ward_tree\n",
        "ward_tree(data[features], n_clusters=NUMBER_OF_CLUSTERS)"
      ],
      "execution_count": 30,
      "outputs": [
        {
          "output_type": "stream",
          "name": "stderr",
          "text": [
            "/usr/local/lib/python3.7/dist-packages/ipykernel_launcher.py:2: UserWarning: Partial build of the tree is implemented only for structured clustering (i.e. with explicit connectivity). The algorithm will build the full tree and only retain the lower branches required for the specified number of clusters\n",
            "  \n"
          ]
        },
        {
          "output_type": "execute_result",
          "data": {
            "text/plain": [
              "(array([[1153, 1155],\n",
              "        [1191, 1194],\n",
              "        [ 926,  937],\n",
              "        ...,\n",
              "        [3311, 3313],\n",
              "        [3290, 3314],\n",
              "        [3312, 3315]]), 1, 1659, None)"
            ]
          },
          "metadata": {},
          "execution_count": 30
        }
      ]
    },
    {
      "cell_type": "code",
      "metadata": {
        "colab": {
          "base_uri": "https://localhost:8080/",
          "height": 460
        },
        "id": "R_8GfD0Vs29X",
        "outputId": "e5a0194e-047f-41de-b88b-d9ba0f967910"
      },
      "source": [
        "from scipy import ndimage\n",
        "from matplotlib import pyplot as plt\n",
        "from sklearn import manifold, datasets\n",
        "\n",
        "X, y = data[features],data['occupancy']\n",
        "n_samples, n_features = X.shape\n",
        "\n",
        "np.random.seed(0)\n",
        "\n",
        "\n",
        "def nudge_images(X, y):\n",
        "    # Having a larger dataset shows more clearly the behavior of the\n",
        "    # methods, but we multiply the size of the dataset only by 2, as the\n",
        "    # cost of the hierarchical clustering methods are strongly\n",
        "    # super-linear in n_samples\n",
        "    shift = lambda x: ndimage.shift(x.reshape((len(features),1)),\n",
        "                                    .3 * np.random.normal(size=2),\n",
        "                                    mode='constant').ravel()\n",
        "    X = np.concatenate([X, np.apply_along_axis(shift, 1, X)])\n",
        "    Y = np.concatenate([y, y], axis=0)\n",
        "    return X, Y\n",
        "\n",
        "\n",
        "X, y = nudge_images(X, y)\n",
        "\n",
        "\n",
        "# ----------------------------------------------------------------------\n",
        "# Visualize the clustering\n",
        "def plot_clustering(X_red, labels, title=None):\n",
        "    x_min, x_max = np.min(X_red, axis=0), np.max(X_red, axis=0)\n",
        "    X_red = (X_red - x_min) / (x_max - x_min)\n",
        "\n",
        "    plt.figure(figsize=(8, 6))\n",
        "    for i in range(X_red.shape[0]):\n",
        "        plt.text(X_red[i, 0], X_red[i, 1], str(y[i]),\n",
        "                 color=plt.cm.nipy_spectral(labels[i] / 10.),\n",
        "                 fontdict={'weight': 'bold', 'size': 9})\n",
        "\n",
        "    plt.xticks([])\n",
        "    plt.yticks([])\n",
        "    if title is not None:\n",
        "        plt.title(title, size=15)\n",
        "    plt.axis('off')\n",
        "    plt.tight_layout(rect=[0, 0.02, 1, 0.95])\n",
        "\n",
        "\n",
        "# ----------------------------------------------------------------------\n",
        "# 2D embedding of the digits dataset\n",
        "print(\"Computing embedding\")\n",
        "X_red = manifold.SpectralEmbedding(n_components=2).fit_transform(X)\n",
        "print(\"Done.\")\n",
        "\n",
        "from sklearn.cluster import AgglomerativeClustering\n",
        "\n",
        "linkage = 'ward'\n",
        "clustering = AgglomerativeClustering(linkage=linkage, n_clusters=NUMBER_OF_CLUSTERS,affinity='euclidean')\n",
        "clustering.fit(X_red)\n",
        "print(linkage)\n",
        "plot_clustering(X_red, clustering.labels_, \"%s linkage\" % linkage)\n",
        "\n",
        "\n",
        "plt.show()"
      ],
      "execution_count": 32,
      "outputs": [
        {
          "output_type": "stream",
          "name": "stdout",
          "text": [
            "Computing embedding\n",
            "Done.\n",
            "ward\n"
          ]
        },
        {
          "output_type": "display_data",
          "data": {
            "image/png": "[encoded data removed]",
            "text/plain": [
              "<Figure size 576x432 with 1 Axes>"
            ]
          },
          "metadata": {}
        }
      ]
    },
    {
      "cell_type": "code",
      "metadata": {
        "colab": {
          "base_uri": "https://localhost:8080/",
          "height": 0
        },
        "id": "cCJbqOFetSrl",
        "outputId": "21a1037c-1de0-4d56-95d0-92e185e9b5d5"
      },
      "source": [
        "from sklearn.cluster import AgglomerativeClustering\n",
        "\n",
        "X, y = data[features],data['occupancy']\n",
        "n_samples, n_features = X.shape\n",
        "\n",
        "np.random.seed(0)\n",
        "linkage = 'ward'\n",
        "clustering = AgglomerativeClustering(linkage=linkage, n_clusters=NUMBER_OF_CLUSTERS)\n",
        "clustering.fit(X)\n",
        "print(linkage)"
      ],
      "execution_count": 34,
      "outputs": [
        {
          "output_type": "stream",
          "name": "stdout",
          "text": [
            "ward\n"
          ]
        }
      ]
    },
    {
      "cell_type": "code",
      "metadata": {
        "colab": {
          "base_uri": "https://localhost:8080/",
          "height": 0
        },
        "id": "sBUqvyDqtYnF",
        "outputId": "98840dbe-840f-46a9-b13d-dc17f094ab61"
      },
      "source": [
        "print(clustering.labels_)\n",
        "print(y)\n",
        "print(np.bincount(clustering.labels_))\n",
        "print(np.bincount(y))\n",
        "print(len(clustering.labels_))\n",
        "print(len(y))"
      ],
      "execution_count": 35,
      "outputs": [
        {
          "output_type": "stream",
          "name": "stdout",
          "text": [
            "[1 1 1 ... 1 1 1]\n",
            "0       1\n",
            "1       1\n",
            "2       1\n",
            "3       1\n",
            "4       1\n",
            "       ..\n",
            "8797    1\n",
            "8798    1\n",
            "8800    1\n",
            "8815    1\n",
            "8817    1\n",
            "Name: occupancy, Length: 1659, dtype: int64\n",
            "[1286  373]\n",
            "[   0 1659]\n",
            "1659\n",
            "1659\n"
          ]
        }
      ]
    },
    {
      "cell_type": "code",
      "metadata": {
        "colab": {
          "base_uri": "https://localhost:8080/",
          "height": 0
        },
        "id": "2neXitf5tcHr",
        "outputId": "29d26398-0d3a-46eb-bdd6-7dc305cb0ca0"
      },
      "source": [
        "from sklearn.metrics.cluster import adjusted_rand_score\n",
        "adjusted_rand_score(clustering.labels_,y)"
      ],
      "execution_count": 36,
      "outputs": [
        {
          "output_type": "execute_result",
          "data": {
            "text/plain": [
              "0.0"
            ]
          },
          "metadata": {},
          "execution_count": 36
        }
      ]
    },
    {
      "cell_type": "code",
      "metadata": {
        "colab": {
          "base_uri": "https://localhost:8080/",
          "height": 0
        },
        "id": "GYUdHPO6tfoo",
        "outputId": "5eff0c5b-3964-42fe-984c-4a3bc181c1d9"
      },
      "source": [
        "from sklearn.metrics import silhouette_score\n",
        "silhouette_score(X, clustering.labels_)"
      ],
      "execution_count": 37,
      "outputs": [
        {
          "output_type": "execute_result",
          "data": {
            "text/plain": [
              "0.4361409616506948"
            ]
          },
          "metadata": {},
          "execution_count": 37
        }
      ]
    },
    {
      "cell_type": "code",
      "metadata": {
        "colab": {
          "base_uri": "https://localhost:8080/",
          "height": 739
        },
        "id": "Nh9lU_HjtjU6",
        "outputId": "93e8cf98-355b-48dc-a6e5-e9215b4bd026"
      },
      "source": [
        "import scipy.cluster.hierarchy as sch\n",
        "dendrogram = sch.dendrogram(sch.linkage(X, method  = \"ward\"))\n",
        "# plt.axhline(y=15, color='r', linestyle='--')\n",
        "plt.title('Dendrogram')\n",
        "plt.xlabel('Data')\n",
        "plt.ylabel('Euclidean distances')\n",
        "plt.show()\n",
        "#The x-axis contains the samples and y-axis represents the distance between these samples.\n",
        "#The vertical line with maximum distance is the blue line and hence we can decide a threshold of 6 and cut the dendrogram:"
      ],
      "execution_count": 38,
      "outputs": [
        {
          "output_type": "display_data",
          "data": {
            "image/png": "[encoded data removed]",
            "text/plain": [
              "<Figure size 1152x864 with 1 Axes>"
            ]
          },
          "metadata": {}
        }
      ]
    }
  ]
}